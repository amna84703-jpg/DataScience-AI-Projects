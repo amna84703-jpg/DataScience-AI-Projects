{
  "nbformat": 4,
  "nbformat_minor": 0,
  "metadata": {
    "colab": {
      "provenance": []
    },
    "kernelspec": {
      "name": "python3",
      "display_name": "Python 3"
    },
    "language_info": {
      "name": "python"
    }
  },
  "cells": [
    {
      "cell_type": "code",
      "source": [
        "\n",
        "import pandas as pd\n",
        "import seaborn as sns\n",
        "df = sns.load_dataset(\"titanic\")\n",
        "\n",
        "print(\" BEFORE CLEANING REPORT\")\n",
        "print(\"Shape:\", df.shape)\n",
        "print(\"\\nMissing Values:\\n\", df.isnull().sum())\n",
        "print(\"\\nDescriptive Statistics:\\n\", df.describe(include='all'))\n",
        "print(\"=\"*60)\n",
        "\n",
        "df = df.drop_duplicates()\n",
        "\n",
        "df['age'] = df['age'].fillna(df['age'].mean())\n",
        "df['embarked'] = df['embarked'].fillna(df['embarked'].mode()[0])\n",
        "df['embark_town'] = df['embark_town'].fillna(df['embark_town'].mode()[0])\n",
        "df = df.drop(columns=['deck'])\n",
        "\n",
        "Q1 = df['fare'].quantile(0.25)\n",
        "Q3 = df['fare'].quantile(0.75)\n",
        "IQR = Q3 - Q1\n",
        "df = df[~((df['fare'] < (Q1 - 1.5 * IQR)) | (df['fare'] > (Q3 + 1.5 * IQR)))]\n",
        "\n",
        "print(\" AFTER CLEANING REPORT\")\n",
        "print(\"Shape:\", df.shape)\n",
        "print(\"\\nMissing Values:\\n\", df.isnull().sum())\n",
        "print(\"\\nDescriptive Statistics:\\n\", df.describe(include='all'))\n",
        "print(\"=\"*60)\n",
        "\n",
        "df.to_csv(\"titanic_cleaned.csv\", index=False)\n",
        "print(\" Cleaned dataset saved as 'titanic_cleaned.csv'\")\n"
      ],
      "metadata": {
        "colab": {
          "base_uri": "https://localhost:8080/"
        },
        "id": "Kfnwzc6kdWbS",
        "outputId": "4b96ce45-51df-4f5e-92f7-3886bd615642"
      },
      "execution_count": 30,
      "outputs": [
        {
          "output_type": "stream",
          "name": "stdout",
          "text": [
            " BEFORE CLEANING REPORT\n",
            "Shape: (891, 15)\n",
            "\n",
            "Missing Values:\n",
            " survived         0\n",
            "pclass           0\n",
            "sex              0\n",
            "age            177\n",
            "sibsp            0\n",
            "parch            0\n",
            "fare             0\n",
            "embarked         2\n",
            "class            0\n",
            "who              0\n",
            "adult_male       0\n",
            "deck           688\n",
            "embark_town      2\n",
            "alive            0\n",
            "alone            0\n",
            "dtype: int64\n",
            "\n",
            "Descriptive Statistics:\n",
            "           survived      pclass   sex         age       sibsp       parch  \\\n",
            "count   891.000000  891.000000   891  714.000000  891.000000  891.000000   \n",
            "unique         NaN         NaN     2         NaN         NaN         NaN   \n",
            "top            NaN         NaN  male         NaN         NaN         NaN   \n",
            "freq           NaN         NaN   577         NaN         NaN         NaN   \n",
            "mean      0.383838    2.308642   NaN   29.699118    0.523008    0.381594   \n",
            "std       0.486592    0.836071   NaN   14.526497    1.102743    0.806057   \n",
            "min       0.000000    1.000000   NaN    0.420000    0.000000    0.000000   \n",
            "25%       0.000000    2.000000   NaN   20.125000    0.000000    0.000000   \n",
            "50%       0.000000    3.000000   NaN   28.000000    0.000000    0.000000   \n",
            "75%       1.000000    3.000000   NaN   38.000000    1.000000    0.000000   \n",
            "max       1.000000    3.000000   NaN   80.000000    8.000000    6.000000   \n",
            "\n",
            "              fare embarked  class  who adult_male deck  embark_town alive  \\\n",
            "count   891.000000      889    891  891        891  203          889   891   \n",
            "unique         NaN        3      3    3          2    7            3     2   \n",
            "top            NaN        S  Third  man       True    C  Southampton    no   \n",
            "freq           NaN      644    491  537        537   59          644   549   \n",
            "mean     32.204208      NaN    NaN  NaN        NaN  NaN          NaN   NaN   \n",
            "std      49.693429      NaN    NaN  NaN        NaN  NaN          NaN   NaN   \n",
            "min       0.000000      NaN    NaN  NaN        NaN  NaN          NaN   NaN   \n",
            "25%       7.910400      NaN    NaN  NaN        NaN  NaN          NaN   NaN   \n",
            "50%      14.454200      NaN    NaN  NaN        NaN  NaN          NaN   NaN   \n",
            "75%      31.000000      NaN    NaN  NaN        NaN  NaN          NaN   NaN   \n",
            "max     512.329200      NaN    NaN  NaN        NaN  NaN          NaN   NaN   \n",
            "\n",
            "       alone  \n",
            "count    891  \n",
            "unique     2  \n",
            "top     True  \n",
            "freq     537  \n",
            "mean     NaN  \n",
            "std      NaN  \n",
            "min      NaN  \n",
            "25%      NaN  \n",
            "50%      NaN  \n",
            "75%      NaN  \n",
            "max      NaN  \n",
            "============================================================\n",
            " AFTER CLEANING REPORT\n",
            "Shape: (682, 14)\n",
            "\n",
            "Missing Values:\n",
            " survived       0\n",
            "pclass         0\n",
            "sex            0\n",
            "age            0\n",
            "sibsp          0\n",
            "parch          0\n",
            "fare           0\n",
            "embarked       0\n",
            "class          0\n",
            "who            0\n",
            "adult_male     0\n",
            "embark_town    0\n",
            "alive          0\n",
            "alone          0\n",
            "dtype: int64\n",
            "\n",
            "Descriptive Statistics:\n",
            "           survived      pclass   sex         age       sibsp       parch  \\\n",
            "count   682.000000  682.000000   682  682.000000  682.000000  682.000000   \n",
            "unique         NaN         NaN     2         NaN         NaN         NaN   \n",
            "top            NaN         NaN  male         NaN         NaN         NaN   \n",
            "freq           NaN         NaN   451         NaN         NaN         NaN   \n",
            "mean      0.365103    2.422287   NaN   29.267883    0.502933    0.391496   \n",
            "std       0.481812    0.766767   NaN   13.573003    1.017103    0.832940   \n",
            "min       0.000000    1.000000   NaN    0.420000    0.000000    0.000000   \n",
            "25%       0.000000    2.000000   NaN   21.000000    0.000000    0.000000   \n",
            "50%       0.000000    3.000000   NaN   29.869351    0.000000    0.000000   \n",
            "75%       1.000000    3.000000   NaN   35.750000    1.000000    0.000000   \n",
            "max       1.000000    3.000000   NaN   80.000000    8.000000    6.000000   \n",
            "\n",
            "              fare embarked  class  who adult_male  embark_town alive alone  \n",
            "count   682.000000      682    682  682        682          682   682   682  \n",
            "unique         NaN        3      3    3          2            3     2     2  \n",
            "top            NaN        S  Third  man       True  Southampton    no  True  \n",
            "freq           NaN      519    405  414        414          519   433   414  \n",
            "mean     19.507490      NaN    NaN  NaN        NaN          NaN   NaN   NaN  \n",
            "std      14.836515      NaN    NaN  NaN        NaN          NaN   NaN   NaN  \n",
            "min       0.000000      NaN    NaN  NaN        NaN          NaN   NaN   NaN  \n",
            "25%       7.895800      NaN    NaN  NaN        NaN          NaN   NaN   NaN  \n",
            "50%      13.000000      NaN    NaN  NaN        NaN          NaN   NaN   NaN  \n",
            "75%      26.550000      NaN    NaN  NaN        NaN          NaN   NaN   NaN  \n",
            "max      71.283300      NaN    NaN  NaN        NaN          NaN   NaN   NaN  \n",
            "============================================================\n",
            " Cleaned dataset saved as 'titanic_cleaned.csv'\n"
          ]
        }
      ]
    },
    {
      "cell_type": "code",
      "source": [
        "df=sns.load_dataset(\"titanic\")"
      ],
      "metadata": {
        "id": "RAd0Oflzd2NV"
      },
      "execution_count": 31,
      "outputs": []
    },
    {
      "cell_type": "code",
      "source": [
        "df=pd.DataFrame(df)"
      ],
      "metadata": {
        "id": "pRAqI-toeEP3"
      },
      "execution_count": 32,
      "outputs": []
    },
    {
      "cell_type": "code",
      "source": [
        "print(df.isnull().sum())"
      ],
      "metadata": {
        "id": "LQmxL0IOeHG3",
        "colab": {
          "base_uri": "https://localhost:8080/"
        },
        "outputId": "ae16c82e-2ae4-4700-fbac-4096b2b80b78"
      },
      "execution_count": 33,
      "outputs": [
        {
          "output_type": "stream",
          "name": "stdout",
          "text": [
            "survived         0\n",
            "pclass           0\n",
            "sex              0\n",
            "age            177\n",
            "sibsp            0\n",
            "parch            0\n",
            "fare             0\n",
            "embarked         2\n",
            "class            0\n",
            "who              0\n",
            "adult_male       0\n",
            "deck           688\n",
            "embark_town      2\n",
            "alive            0\n",
            "alone            0\n",
            "dtype: int64\n"
          ]
        }
      ]
    }
  ]
}